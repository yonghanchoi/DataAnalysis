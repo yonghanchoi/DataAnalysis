{
  "nbformat": 4,
  "nbformat_minor": 0,
  "metadata": {
    "colab": {
      "provenance": [],
      "include_colab_link": true
    },
    "kernelspec": {
      "name": "python3",
      "display_name": "Python 3"
    },
    "language_info": {
      "name": "python"
    }
  },
  "cells": [
    {
      "cell_type": "markdown",
      "metadata": {
        "id": "view-in-github",
        "colab_type": "text"
      },
      "source": [
        "<a href=\"https://colab.research.google.com/github/yonghanchoi/DataAnalysis/blob/main/%EC%98%A4%ED%94%88%EC%86%8C%EC%8A%A4_%EB%8D%B0%EC%9D%B4%ED%84%B0_%EB%B6%84%EC%84%9D_5%EA%B0%95.ipynb\" target=\"_parent\"><img src=\"https://colab.research.google.com/assets/colab-badge.svg\" alt=\"Open In Colab\"/></a>"
      ]
    },
    {
      "cell_type": "markdown",
      "source": [
        "# 오픈소스 기반 데이터 분석 5강 - 데이터 저장"
      ],
      "metadata": {
        "id": "O4kC4JMknVnK"
      }
    },
    {
      "cell_type": "markdown",
      "source": [
        "## 5-1 CSV 형식 저장"
      ],
      "metadata": {
        "id": "8DfV0cZLqj_s"
      }
    },
    {
      "cell_type": "code",
      "source": [
        "import pandas as pd\n",
        "\n",
        "data = {\n",
        "    'student_id': [101, 102, 103, 104, 105],\n",
        "    'database_score': [85, 76, 92, 63, 88],\n",
        "    'cloudcomputing_score': [78, 82, 95, 70, 84],\n",
        "    'python_score': [92, 78, 85, 75, 91],\n",
        "    'watch_rate': [0.95, 0.87, 0.99, 0.80, 0.93]\n",
        "}\n",
        "## DataFrame 생성\n",
        "df = pd.DataFrame(data)\n",
        "df\n",
        "## CSV 형식 저장\n",
        "df.to_csv('student_analysis.csv', encoding = 'utf-8', index=False)"
      ],
      "metadata": {
        "id": "DztLRI9gW2lk"
      },
      "execution_count": 4,
      "outputs": []
    },
    {
      "cell_type": "markdown",
      "source": [
        "## 5-2 JSON 형식 저장"
      ],
      "metadata": {
        "id": "CSABzaf3q8XU"
      }
    },
    {
      "cell_type": "code",
      "source": [
        "### 라이브러리 임포트\n",
        "import json\n",
        "import pandas as pd\n",
        "\n",
        "data = {\n",
        "    \"이름\": \"홍길동\",\n",
        "    \"나이\": 25,\n",
        "    \"거주지\": \"서울\",\n",
        "    \"관심사\": [\"프로그래밍\", \"데이터 분석\", \"여행\"]\n",
        "}\n",
        "\n",
        "## json.dump를 이용한 저장\n",
        "with open('output.json', mode='w', encoding='utf-8') as f:\n",
        "    json.dump(data, f, indent=4, ensure_ascii=False)\n",
        "## DataFrame을 이용한 저장\n",
        "df = pd.DataFrame([data])\n",
        "df.to_json('output_df.json', orient='records', indent=4, force_ascii=False)"
      ],
      "metadata": {
        "id": "7bAgRpizW7Vj"
      },
      "execution_count": 7,
      "outputs": []
    },
    {
      "cell_type": "markdown",
      "source": [
        "## 5-3 Pandas Dataframe 데이터 추출"
      ],
      "metadata": {
        "id": "NMlsQDHtrA_x"
      }
    },
    {
      "cell_type": "code",
      "source": [
        "import pandas as pd\n",
        "\n",
        "data = {\n",
        "    \"이름\": [\"김철수\", \"이영희\", \"박민수\", \"최지훈\", \"정소희\"],\n",
        "    \"학년\": [1, 2, 3, 4, 2],\n",
        "    \"학점\": [4.2, 3.8, 4.5, 3.9, 3.5],\n",
        "    \"학과\": [\"컴퓨터학\", \"경영학\", \"농학\", \"교육학\", \"영어영문학\"],\n",
        "    \"동아리\": [\"프로그래밍\", \"독서토론\", \"로봇공학\", \"봉사활동\", \"음악감상\"]\n",
        "}\n",
        "df = pd.DataFrame(data)\n",
        "df\n",
        "## DataFrame 인덱스 출력\n",
        "print(df.index)\n",
        "## DataFrame 컬럼 출력\n",
        "print(df.columns)\n",
        "## DataFrame 행 출력\n",
        "print(df.values.tolist())       #파이썬 리스트\n",
        "print(df.values)        #넘파이(Array) 리스트\n",
        "## DataFrame 값 출력\n",
        "print(df.values.flatten())"
      ],
      "metadata": {
        "id": "dk3xneVAW9_g",
        "outputId": "4246a025-d279-4c1e-ea92-8d6a5a7fb277",
        "colab": {
          "base_uri": "https://localhost:8080/"
        }
      },
      "execution_count": 12,
      "outputs": [
        {
          "output_type": "stream",
          "name": "stdout",
          "text": [
            "RangeIndex(start=0, stop=5, step=1)\n",
            "Index(['이름', '학년', '학점', '학과', '동아리'], dtype='object')\n",
            "[['김철수', 1, 4.2, '컴퓨터학', '프로그래밍'], ['이영희', 2, 3.8, '경영학', '독서토론'], ['박민수', 3, 4.5, '농학', '로봇공학'], ['최지훈', 4, 3.9, '교육학', '봉사활동'], ['정소희', 2, 3.5, '영어영문학', '음악감상']]\n",
            "[['김철수' 1 4.2 '컴퓨터학' '프로그래밍']\n",
            " ['이영희' 2 3.8 '경영학' '독서토론']\n",
            " ['박민수' 3 4.5 '농학' '로봇공학']\n",
            " ['최지훈' 4 3.9 '교육학' '봉사활동']\n",
            " ['정소희' 2 3.5 '영어영문학' '음악감상']]\n",
            "['김철수' 1 4.2 '컴퓨터학' '프로그래밍' '이영희' 2 3.8 '경영학' '독서토론' '박민수' 3 4.5 '농학'\n",
            " '로봇공학' '최지훈' 4 3.9 '교육학' '봉사활동' '정소희' 2 3.5 '영어영문학' '음악감상']\n"
          ]
        }
      ]
    },
    {
      "cell_type": "markdown",
      "source": [
        "## 5-4 DataFrame 생성 방법"
      ],
      "metadata": {
        "id": "ILJd1GLoseqm"
      }
    },
    {
      "cell_type": "code",
      "source": [
        "import pandas as pd\n",
        "import json\n",
        "\n",
        "data = {\n",
        "    \"이름\": [\"김철수\", \"이영희\", \"박민수\", \"최지훈\", \"정소희\"],\n",
        "    \"학년\": [1, 2, 3, 4, 2],\n",
        "    \"학점\": [4.2, 3.8, 4.5, 3.9, 3.5],\n",
        "    \"학과\": [\"컴퓨터공학\", \"경영학\", \"전자공학\", \"의학\", \"심리학\"],\n",
        "    \"동아리\": [\"프로그래밍\", \"독서토론\", \"로봇공학\", \"봉사활동\", \"음악감상\"]\n",
        "}\n",
        "\n",
        "## 딕셔너리, csv, json으로 부터 DataFrame 생성\n",
        "df1 = pd.DataFrame.from_dict(data)\n",
        "df2 = pd.read_csv('students.csv')\n",
        "df3 = pd.read_json('students.json')\n",
        "## 세가지 방법 결과 비교\n",
        "print(df1.shape)\n",
        "print(df2.shape)\n",
        "print(df3.shape)"
      ],
      "metadata": {
        "id": "ISnPLEgNXAmi",
        "outputId": "1dca2d7f-7764-44a2-acc2-f0390a9798bf",
        "colab": {
          "base_uri": "https://localhost:8080/"
        }
      },
      "execution_count": 13,
      "outputs": [
        {
          "output_type": "stream",
          "name": "stdout",
          "text": [
            "(5, 5)\n",
            "(5, 5)\n",
            "(5, 5)\n"
          ]
        }
      ]
    },
    {
      "cell_type": "markdown",
      "source": [
        "## 5-5 DataFrame 저장 방법"
      ],
      "metadata": {
        "id": "z1N6lAnwsdyU"
      }
    },
    {
      "cell_type": "code",
      "source": [
        "import pandas as pd\n",
        "\n",
        "data = {\n",
        "    \"이름\": [\"김철수\", \"이영희\", \"박민수\", \"최지훈\", \"정소희\"],\n",
        "    \"학년\": [1, 2, 3, 4, 2],\n",
        "    \"학점\": [4.2, 3.8, 4.5, 3.9, 3.5],\n",
        "    \"학과\": [\"컴퓨터공학\", \"경영학\", \"전자공학\", \"의학\", \"심리학\"],\n",
        "    \"동아리\": [\"프로그래밍\", \"독서토론\", \"로봇공학\", \"봉사활동\", \"음악감상\"]\n",
        "}\n",
        "\n",
        "## Dataframe 생성\n",
        "df = pd.DataFrame(data)\n",
        "## CSV, JSON 형식으로 저장\n",
        "df.to_csv('students_scores.csv')\n",
        "df.to_json('students_scores.json')\n",
        "## HTML 형식으로 저장\n",
        "html_table = df.to_html()\n",
        "print(html_table)\n",
        "with open('students_scores.html', 'w') as f:\n",
        "    f.write(html_table)"
      ],
      "metadata": {
        "id": "_dqoWCRoXDrJ",
        "outputId": "9dca5731-0edd-479d-a20e-3e02448c56fa",
        "colab": {
          "base_uri": "https://localhost:8080/"
        }
      },
      "execution_count": 17,
      "outputs": [
        {
          "output_type": "stream",
          "name": "stdout",
          "text": [
            "<table border=\"1\" class=\"dataframe\">\n",
            "  <thead>\n",
            "    <tr style=\"text-align: right;\">\n",
            "      <th></th>\n",
            "      <th>이름</th>\n",
            "      <th>학년</th>\n",
            "      <th>학점</th>\n",
            "      <th>학과</th>\n",
            "      <th>동아리</th>\n",
            "    </tr>\n",
            "  </thead>\n",
            "  <tbody>\n",
            "    <tr>\n",
            "      <th>0</th>\n",
            "      <td>김철수</td>\n",
            "      <td>1</td>\n",
            "      <td>4.2</td>\n",
            "      <td>컴퓨터공학</td>\n",
            "      <td>프로그래밍</td>\n",
            "    </tr>\n",
            "    <tr>\n",
            "      <th>1</th>\n",
            "      <td>이영희</td>\n",
            "      <td>2</td>\n",
            "      <td>3.8</td>\n",
            "      <td>경영학</td>\n",
            "      <td>독서토론</td>\n",
            "    </tr>\n",
            "    <tr>\n",
            "      <th>2</th>\n",
            "      <td>박민수</td>\n",
            "      <td>3</td>\n",
            "      <td>4.5</td>\n",
            "      <td>전자공학</td>\n",
            "      <td>로봇공학</td>\n",
            "    </tr>\n",
            "    <tr>\n",
            "      <th>3</th>\n",
            "      <td>최지훈</td>\n",
            "      <td>4</td>\n",
            "      <td>3.9</td>\n",
            "      <td>의학</td>\n",
            "      <td>봉사활동</td>\n",
            "    </tr>\n",
            "    <tr>\n",
            "      <th>4</th>\n",
            "      <td>정소희</td>\n",
            "      <td>2</td>\n",
            "      <td>3.5</td>\n",
            "      <td>심리학</td>\n",
            "      <td>음악감상</td>\n",
            "    </tr>\n",
            "  </tbody>\n",
            "</table>\n"
          ]
        }
      ]
    },
    {
      "cell_type": "markdown",
      "source": [
        "## 5-6 실습 시나리오"
      ],
      "metadata": {
        "id": "ifBFAyulsdJb"
      }
    },
    {
      "cell_type": "markdown",
      "source": [
        "## 데이터 수집"
      ],
      "metadata": {
        "id": "muFj6okKyXy6"
      }
    },
    {
      "cell_type": "code",
      "source": [
        "import requests\n",
        "\n",
        "url = \"http://apis.data.go.kr/B552584/ArpltnInforInqireSvc/getMinuDustFrcstDspth\"\n",
        "api_key = 'c42c163eb27b1c6fa16db3f62bb8e5770b2b1aa5d6bbd268943cdb38413df3c6'\n",
        "\n",
        "params = {\n",
        "    'serviceKey': api_key,\n",
        "    'returnType': 'json',\n",
        "    'numOfRows': '100',\n",
        "    'pageNo': '1',\n",
        "    'sidoName': '서울',\n",
        "    'ver': '1.0'\n",
        "}\n",
        "\n",
        "## 데이터 수집\n",
        "response = requests.get(url, params=params)\n",
        "\n",
        "## 호출 성공/실패 출력\n",
        "print(response.json())\n"
      ],
      "metadata": {
        "id": "7yCozmQeXJcO",
        "collapsed": true,
        "outputId": "a0c6dc7d-4006-4583-826a-8d07623bb099",
        "colab": {
          "base_uri": "https://localhost:8080/",
          "height": 401
        }
      },
      "execution_count": 25,
      "outputs": [
        {
          "output_type": "error",
          "ename": "JSONDecodeError",
          "evalue": "Expecting value: line 1 column 1 (char 0)",
          "traceback": [
            "\u001b[0;31m---------------------------------------------------------------------------\u001b[0m",
            "\u001b[0;31mJSONDecodeError\u001b[0m                           Traceback (most recent call last)",
            "\u001b[0;32m/usr/local/lib/python3.12/dist-packages/requests/models.py\u001b[0m in \u001b[0;36mjson\u001b[0;34m(self, **kwargs)\u001b[0m\n\u001b[1;32m    975\u001b[0m         \u001b[0;32mtry\u001b[0m\u001b[0;34m:\u001b[0m\u001b[0;34m\u001b[0m\u001b[0;34m\u001b[0m\u001b[0m\n\u001b[0;32m--> 976\u001b[0;31m             \u001b[0;32mreturn\u001b[0m \u001b[0mcomplexjson\u001b[0m\u001b[0;34m.\u001b[0m\u001b[0mloads\u001b[0m\u001b[0;34m(\u001b[0m\u001b[0mself\u001b[0m\u001b[0;34m.\u001b[0m\u001b[0mtext\u001b[0m\u001b[0;34m,\u001b[0m \u001b[0;34m**\u001b[0m\u001b[0mkwargs\u001b[0m\u001b[0;34m)\u001b[0m\u001b[0;34m\u001b[0m\u001b[0;34m\u001b[0m\u001b[0m\n\u001b[0m\u001b[1;32m    977\u001b[0m         \u001b[0;32mexcept\u001b[0m \u001b[0mJSONDecodeError\u001b[0m \u001b[0;32mas\u001b[0m \u001b[0me\u001b[0m\u001b[0;34m:\u001b[0m\u001b[0;34m\u001b[0m\u001b[0;34m\u001b[0m\u001b[0m\n",
            "\u001b[0;32m/usr/local/lib/python3.12/dist-packages/simplejson/__init__.py\u001b[0m in \u001b[0;36mloads\u001b[0;34m(s, encoding, cls, object_hook, parse_float, parse_int, parse_constant, object_pairs_hook, use_decimal, allow_nan, **kw)\u001b[0m\n\u001b[1;32m    513\u001b[0m             and not use_decimal and not allow_nan and not kw):\n\u001b[0;32m--> 514\u001b[0;31m         \u001b[0;32mreturn\u001b[0m \u001b[0m_default_decoder\u001b[0m\u001b[0;34m.\u001b[0m\u001b[0mdecode\u001b[0m\u001b[0;34m(\u001b[0m\u001b[0ms\u001b[0m\u001b[0;34m)\u001b[0m\u001b[0;34m\u001b[0m\u001b[0;34m\u001b[0m\u001b[0m\n\u001b[0m\u001b[1;32m    515\u001b[0m     \u001b[0;32mif\u001b[0m \u001b[0mcls\u001b[0m \u001b[0;32mis\u001b[0m \u001b[0;32mNone\u001b[0m\u001b[0;34m:\u001b[0m\u001b[0;34m\u001b[0m\u001b[0;34m\u001b[0m\u001b[0m\n",
            "\u001b[0;32m/usr/local/lib/python3.12/dist-packages/simplejson/decoder.py\u001b[0m in \u001b[0;36mdecode\u001b[0;34m(self, s, _w, _PY3)\u001b[0m\n\u001b[1;32m    385\u001b[0m             \u001b[0ms\u001b[0m \u001b[0;34m=\u001b[0m \u001b[0mstr\u001b[0m\u001b[0;34m(\u001b[0m\u001b[0ms\u001b[0m\u001b[0;34m,\u001b[0m \u001b[0mself\u001b[0m\u001b[0;34m.\u001b[0m\u001b[0mencoding\u001b[0m\u001b[0;34m)\u001b[0m\u001b[0;34m\u001b[0m\u001b[0;34m\u001b[0m\u001b[0m\n\u001b[0;32m--> 386\u001b[0;31m         \u001b[0mobj\u001b[0m\u001b[0;34m,\u001b[0m \u001b[0mend\u001b[0m \u001b[0;34m=\u001b[0m \u001b[0mself\u001b[0m\u001b[0;34m.\u001b[0m\u001b[0mraw_decode\u001b[0m\u001b[0;34m(\u001b[0m\u001b[0ms\u001b[0m\u001b[0;34m)\u001b[0m\u001b[0;34m\u001b[0m\u001b[0;34m\u001b[0m\u001b[0m\n\u001b[0m\u001b[1;32m    387\u001b[0m         \u001b[0mend\u001b[0m \u001b[0;34m=\u001b[0m \u001b[0m_w\u001b[0m\u001b[0;34m(\u001b[0m\u001b[0ms\u001b[0m\u001b[0;34m,\u001b[0m \u001b[0mend\u001b[0m\u001b[0;34m)\u001b[0m\u001b[0;34m.\u001b[0m\u001b[0mend\u001b[0m\u001b[0;34m(\u001b[0m\u001b[0;34m)\u001b[0m\u001b[0;34m\u001b[0m\u001b[0;34m\u001b[0m\u001b[0m\n",
            "\u001b[0;32m/usr/local/lib/python3.12/dist-packages/simplejson/decoder.py\u001b[0m in \u001b[0;36mraw_decode\u001b[0;34m(self, s, idx, _w, _PY3)\u001b[0m\n\u001b[1;32m    415\u001b[0m                 \u001b[0midx\u001b[0m \u001b[0;34m+=\u001b[0m \u001b[0;36m3\u001b[0m\u001b[0;34m\u001b[0m\u001b[0;34m\u001b[0m\u001b[0m\n\u001b[0;32m--> 416\u001b[0;31m         \u001b[0;32mreturn\u001b[0m \u001b[0mself\u001b[0m\u001b[0;34m.\u001b[0m\u001b[0mscan_once\u001b[0m\u001b[0;34m(\u001b[0m\u001b[0ms\u001b[0m\u001b[0;34m,\u001b[0m \u001b[0midx\u001b[0m\u001b[0;34m=\u001b[0m\u001b[0m_w\u001b[0m\u001b[0;34m(\u001b[0m\u001b[0ms\u001b[0m\u001b[0;34m,\u001b[0m \u001b[0midx\u001b[0m\u001b[0;34m)\u001b[0m\u001b[0;34m.\u001b[0m\u001b[0mend\u001b[0m\u001b[0;34m(\u001b[0m\u001b[0;34m)\u001b[0m\u001b[0;34m)\u001b[0m\u001b[0;34m\u001b[0m\u001b[0;34m\u001b[0m\u001b[0m\n\u001b[0m",
            "\u001b[0;31mJSONDecodeError\u001b[0m: Expecting value: line 1 column 1 (char 0)",
            "\nDuring handling of the above exception, another exception occurred:\n",
            "\u001b[0;31mJSONDecodeError\u001b[0m                           Traceback (most recent call last)",
            "\u001b[0;32m/tmp/ipython-input-3667719085.py\u001b[0m in \u001b[0;36m<cell line: 0>\u001b[0;34m()\u001b[0m\n\u001b[1;32m     17\u001b[0m \u001b[0;34m\u001b[0m\u001b[0m\n\u001b[1;32m     18\u001b[0m \u001b[0;31m## 호출 성공/실패 출력\u001b[0m\u001b[0;34m\u001b[0m\u001b[0;34m\u001b[0m\u001b[0m\n\u001b[0;32m---> 19\u001b[0;31m \u001b[0mprint\u001b[0m\u001b[0;34m(\u001b[0m\u001b[0mresponse\u001b[0m\u001b[0;34m.\u001b[0m\u001b[0mjson\u001b[0m\u001b[0;34m(\u001b[0m\u001b[0;34m)\u001b[0m\u001b[0;34m)\u001b[0m\u001b[0;34m\u001b[0m\u001b[0;34m\u001b[0m\u001b[0m\n\u001b[0m",
            "\u001b[0;32m/usr/local/lib/python3.12/dist-packages/requests/models.py\u001b[0m in \u001b[0;36mjson\u001b[0;34m(self, **kwargs)\u001b[0m\n\u001b[1;32m    978\u001b[0m             \u001b[0;31m# Catch JSON-related errors and raise as requests.JSONDecodeError\u001b[0m\u001b[0;34m\u001b[0m\u001b[0;34m\u001b[0m\u001b[0m\n\u001b[1;32m    979\u001b[0m             \u001b[0;31m# This aliases json.JSONDecodeError and simplejson.JSONDecodeError\u001b[0m\u001b[0;34m\u001b[0m\u001b[0;34m\u001b[0m\u001b[0m\n\u001b[0;32m--> 980\u001b[0;31m             \u001b[0;32mraise\u001b[0m \u001b[0mRequestsJSONDecodeError\u001b[0m\u001b[0;34m(\u001b[0m\u001b[0me\u001b[0m\u001b[0;34m.\u001b[0m\u001b[0mmsg\u001b[0m\u001b[0;34m,\u001b[0m \u001b[0me\u001b[0m\u001b[0;34m.\u001b[0m\u001b[0mdoc\u001b[0m\u001b[0;34m,\u001b[0m \u001b[0me\u001b[0m\u001b[0;34m.\u001b[0m\u001b[0mpos\u001b[0m\u001b[0;34m)\u001b[0m\u001b[0;34m\u001b[0m\u001b[0;34m\u001b[0m\u001b[0m\n\u001b[0m\u001b[1;32m    981\u001b[0m \u001b[0;34m\u001b[0m\u001b[0m\n\u001b[1;32m    982\u001b[0m     \u001b[0;34m@\u001b[0m\u001b[0mproperty\u001b[0m\u001b[0;34m\u001b[0m\u001b[0;34m\u001b[0m\u001b[0m\n",
            "\u001b[0;31mJSONDecodeError\u001b[0m: Expecting value: line 1 column 1 (char 0)"
          ]
        }
      ]
    },
    {
      "cell_type": "markdown",
      "source": [
        "## 데이터 프레임 생성"
      ],
      "metadata": {
        "id": "d6mT4IxkySzI"
      }
    },
    {
      "cell_type": "code",
      "source": [
        "import pandas as pd\n",
        "\n",
        "## requests로부터 response, body, item 항목 읽기\n",
        "\n"
      ],
      "metadata": {
        "id": "HOOo9qTsXLkB"
      },
      "execution_count": null,
      "outputs": []
    },
    {
      "cell_type": "markdown",
      "source": [
        "## 다양항 형식으로 데이터 저장\n"
      ],
      "metadata": {
        "id": "vVG0HYb0ymeM"
      }
    },
    {
      "cell_type": "code",
      "source": [
        "df.to_csv('air_pollution.csv', index=False, encoding='utf-8')\n",
        "\n",
        "## JSON 형식 데이터 저장\n",
        "\n",
        "## EXCEL 형식 데이터 저장\n",
        "\n",
        "## HTML 형식 데이터 저장\n"
      ],
      "metadata": {
        "id": "HW1ZodpgXNhG"
      },
      "execution_count": null,
      "outputs": []
    }
  ]
}